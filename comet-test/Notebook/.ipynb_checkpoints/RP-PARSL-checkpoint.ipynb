{
 "cells": [
  {
   "cell_type": "code",
   "execution_count": 1,
   "metadata": {},
   "outputs": [
    {
     "data": {
      "text/html": [
       "<style>.container { width:100% !important; }</style>"
      ],
      "text/plain": [
       "<IPython.core.display.HTML object>"
      ]
     },
     "metadata": {},
     "output_type": "display_data"
    },
    {
     "name": "stderr",
     "output_type": "stream",
     "text": [
      "/opt/anaconda3/lib/python3.6/site-packages/matplotlib/__init__.py:846: MatplotlibDeprecationWarning: \n",
      "The text.latex.unicode rcparam was deprecated in Matplotlib 2.2 and will be removed in 3.1.\n",
      "  \"2.2\", name=key, obj_type=\"rcparam\", addendum=addendum)\n"
     ]
    }
   ],
   "source": [
    "import os\n",
    "import sys\n",
    "import pprint\n",
    "import csv\n",
    "import statistics\n",
    "import pandas as pd\n",
    "import numpy as np\n",
    "import matplotlib\n",
    "import matplotlib as mpl\n",
    "import matplotlib.pyplot as plt\n",
    "import radical.pilot as rp\n",
    "import radical.utils     as ru\n",
    "import radical.analytics as ra\n",
    "import rp_analytics as rp_data\n",
    "import parsl_analytics as parsl_data\n",
    "from matplotlib import cm\n",
    "blues = cm.get_cmap(plt.get_cmap('Blues'))\n",
    "greens = cm.get_cmap(plt.get_cmap('Greens'))\n",
    "reds = cm.get_cmap(plt.get_cmap('Reds'))\n",
    "oranges = cm.get_cmap(plt.get_cmap('Oranges'))\n",
    "purples = cm.get_cmap(plt.get_cmap('Purples'))\n",
    "greys = cm.get_cmap(plt.get_cmap('Greys'))\n",
    "\n",
    "# Font sizes\n",
    "SIZE = 20\n",
    "plt.rc('font'  , size      = SIZE  ) # controls default text sizes\n",
    "plt.rc('axes'  , titlesize = SIZE  ) # fontsize of the axes title\n",
    "plt.rc('axes'  , labelsize = SIZE  ) # fontsize of the x any y labels\n",
    "plt.rc('xtick' , labelsize = SIZE  ) # fontsize of the tick labels\n",
    "plt.rc('ytick' , labelsize = SIZE  ) # fontsize of the tick labels\n",
    "plt.rc('legend', fontsize  = SIZE-2) # legend fontsize\n",
    "plt.rc('figure', titlesize = SIZE  ) # size of the figure title\n",
    "\n",
    "from IPython.core.display import display, HTML\n",
    "# Expand the notebook to the width of the browser\n",
    "display(HTML(\"<style>.container { width:100% !important; }</style>\"))\n",
    "\n",
    "# Matplotlib style\n",
    "plt.style.use('seaborn-ticks')\n",
    "\n",
    "# Use LaTeX and its body font for the diagrams' text.\n",
    "mpl.rcParams['text.usetex'] = True\n",
    "mpl.rcParams['text.latex.unicode'] = True\n",
    "mpl.rcParams['font.serif']  = ['Nimbus Roman Becker No9L']\n",
    "mpl.rcParams['font.family'] = 'DejaVu Sans'"
   ]
  },
  {
   "cell_type": "code",
   "execution_count": 2,
   "metadata": {},
   "outputs": [
    {
     "name": "stdout",
     "output_type": "stream",
     "text": [
      "\n",
      "  python               : 3.7.0\n",
      "  pythonpath           : \n",
      "  virtualenv           : /home/aymen/iwp\n",
      "\n",
      "  radical.analytics    : 0.90.7\n",
      "  radical.entk         : 1.0.2\n",
      "  radical.pilot        : 1.3.0\n",
      "  radical.saga         : 1.3.0\n",
      "  radical.utils        : 1.3.1\n",
      "\n",
      "/opt/anaconda3/bin/python\n"
     ]
    }
   ],
   "source": [
    "!radical-stack\n",
    "!which python"
   ]
  },
  {
   "cell_type": "code",
   "execution_count": 3,
   "metadata": {
    "scrolled": false
   },
   "outputs": [
    {
     "name": "stdout",
     "output_type": "stream",
     "text": [
      "session loaded\n",
      "session loaded\n",
      "session loaded\n",
      "session loaded\n",
      "[322.8439998626709, 341.6819996833801, 320.6989998817444, 366.27500009536743]\n"
     ]
    }
   ],
   "source": [
    "RP    = rp_data.get_session_tstamps()\n",
    "PARSL = parsl_data.get_session_tstamps()"
   ]
  },
  {
   "cell_type": "code",
   "execution_count": 4,
   "metadata": {},
   "outputs": [
    {
     "name": "stdout",
     "output_type": "stream",
     "text": [
      "8.350594497838266 21.150249779429956\n"
     ]
    },
    {
     "data": {
      "image/png": "[encoded data removed]",
      "text/plain": [
       "<Figure size 648x432 with 1 Axes>"
      ]
     },
     "metadata": {},
     "output_type": "display_data"
    }
   ],
   "source": [
    "rp_std = statistics.stdev(RP)\n",
    "parsl_std = statistics.stdev(PARSL)\n",
    "print(rp_std, parsl_std)\n",
    "# create figure and axis objects with subplots()\n",
    "fig,ax=plt.subplots(figsize=(9,6))\n",
    "RP_gr = statistics.mean(RP)\n",
    "PARSL_gr = statistics.mean(PARSL)\n",
    "ax.bar(1,RP,yerr=rp_std, width=0.5)\n",
    "ax.set_xlabel(\"Middleware\")\n",
    "ax.set_ylabel(\"TTC in second\")\n",
    "ax.bar(2,PARSL, yerr=parsl_std, width=0.5)\n",
    "ax.grid()\n",
    "labels = [item.get_text() for item in ax.get_xticklabels()]\n",
    "labels[2] = 'RADICAL Pilot'\n",
    "labels[6] = 'PARSL'\n",
    "ax.title.set_text(\"Stress-ng 24 tasks/24 cores (1 node)\")\n",
    "ax.set_xticklabels(labels)\n",
    "plt.show()"
   ]
  },
  {
   "cell_type": "code",
   "execution_count": 5,
   "metadata": {},
   "outputs": [
    {
     "ename": "SyntaxError",
     "evalue": "invalid syntax (<ipython-input-5-3622c20dcaff>, line 82)",
     "output_type": "error",
     "traceback": [
      "\u001b[0;36m  File \u001b[0;32m\"<ipython-input-5-3622c20dcaff>\"\u001b[0;36m, line \u001b[0;32m82\u001b[0m\n\u001b[0;31m    plt.grid()\u001b[0m\n\u001b[0m      ^\u001b[0m\n\u001b[0;31mSyntaxError\u001b[0m\u001b[0;31m:\u001b[0m invalid syntax\n"
     ]
    }
   ],
   "source": [
    "event_list   = \\\n",
    "    [\n",
    "     {ru.STATE: 'NEW'                          , ru.EVENT: 'state'           },\n",
    "     {ru.STATE: 'UMGR_SCHEDULING_PENDING'      , ru.EVENT: 'state'           },\n",
    "     {ru.STATE: 'UMGR_SCHEDULING'              , ru.EVENT: 'state'           },\n",
    "     {ru.STATE: 'UMGR_STAGING_INPUT_PENDING'   , ru.EVENT: 'state'           },\n",
    "     {ru.STATE: 'UMGR_STAGING_INPUT'           , ru.EVENT: 'state'           },\n",
    "     {ru.STATE: 'AGENT_STAGING_INPUT_PENDING'  , ru.EVENT: 'state'           },\n",
    "     {ru.STATE: None                           , ru.EVENT: 'get'             },\n",
    "     {ru.STATE: 'AGENT_STAGING_INPUT'          , ru.EVENT: 'state'           },\n",
    "     {ru.STATE: 'AGENT_SCHEDULING_PENDING'     , ru.EVENT: 'state'           },\n",
    "     {ru.STATE: 'AGENT_SCHEDULING'             , ru.EVENT: 'state'           },\n",
    "     {ru.STATE: None                           , ru.EVENT: 'schedule_ok'     },\n",
    "     {ru.STATE: 'AGENT_EXECUTING_PENDING'      , ru.EVENT: 'state'           },\n",
    "     {ru.STATE: 'AGENT_EXECUTING'              , ru.EVENT: 'state'           },\n",
    "     {ru.STATE: None                           , ru.EVENT: 'exec_start'      },\n",
    "     {ru.STATE: None                           , ru.EVENT: 'exec_ok'         },\n",
    "     {ru.STATE: None                           , ru.EVENT: 'exec_stop'       },\n",
    "     {ru.STATE: None                           , ru.EVENT: 'unschedule_start'},\n",
    "     {ru.STATE: None                           , ru.EVENT: 'unschedule_stop' },\n",
    "     {ru.STATE: 'AGENT_STAGING_OUTPUT_PENDING' , ru.EVENT: 'state'           },\n",
    "     {ru.STATE: 'UMGR_STAGING_OUTPUT_PENDING'  , ru.EVENT: 'state'           },\n",
    "     {ru.STATE: 'UMGR_STAGING_OUTPUT'          , ru.EVENT: 'state'           },\n",
    "     {ru.STATE: 'AGENT_STAGING_OUTPUT'         , ru.EVENT: 'state'           },\n",
    "     {ru.STATE: 'DONE'                         , ru.EVENT: 'state'           },\n",
    "    ]\n",
    "    \n",
    "def ppheader(message):\n",
    "    separator = '\\n' + 78 * '-' + '\\n'\n",
    "    print(separator + message + separator)\n",
    "    \n",
    "loc = [dI for dI in os.listdir('../RP/sessions/') if os.path.isdir(os.path.join('../RP/sessions/',dI))]\n",
    "\n",
    "src = os.path.dirname(loc[1])\n",
    "sid = os.path.basename(loc[1])\n",
    "session = ra.Session(sid=sid, stype='radical.pilot', src=os.path.join('../RP/sessions/',loc[1]))\n",
    "session.filter(etype='unit', inplace=True)\n",
    "\n",
    "print('#entities: %d' % len(session.get()))\n",
    "\n",
    "data = dict()\n",
    "for thing in session.get():\n",
    "\n",
    "    tstamps = list()\n",
    "\n",
    "    for event in event_list:\n",
    "        times = thing.timestamps(event=event)\n",
    "        if times: tstamps.append(times[0])\n",
    "        else    : tstamps.append(np.nan)\n",
    "\n",
    "    data[thing.uid] = tstamps\n",
    "\n",
    "# We sort the entities by the timestamp of the first event\n",
    "# We also derive the durations, first the individual contributions, then the\n",
    "# overall duration.\n",
    "# timestamp in the list\n",
    "sorted_things = sorted(list(data.items()), key=lambda e: e[1][0])\n",
    "sorted_data   = list()\n",
    "index         = 0\n",
    "for uid,tstamps in sorted_things:\n",
    "\n",
    "    durations = list()\n",
    "    durations.append(tstamps[-1] - tstamps[0])  # global duration\n",
    "    for i in range(len(tstamps) - 1):\n",
    "        durations.append(tstamps[i + 1] - tstamps[i])\n",
    "\n",
    "    # create plottable data\n",
    "    sorted_data.append([index] + durations)\n",
    "    index += 1\n",
    "\n",
    "# create a numpyarray for plotting\n",
    "np_data = np.array(sorted_data)\n",
    "# print np_data\n",
    "\n",
    "plt.figure(figsize=(20,14))\n",
    "for e_idx in range(len(event_list)):\n",
    "    if e_idx == 0:\n",
    "        label = 'total'\n",
    "    else:\n",
    "        label = '%s - %s' % (ru.event_to_label(event_list[e_idx - 1]),\n",
    "                             ru.event_to_label(event_list[e_idx]))\n",
    "    plt.bar(np_data[:,0], np_data[:,(1 + e_idx)], label=label)\n",
    "plt.grid()\n",
    "plt.legend(loc='upper center', bbox_to_anchor=(0.5, 1.6),ncol=3, fancybox=True)"
   ]
  },
  {
   "cell_type": "code",
   "execution_count": null,
   "metadata": {},
   "outputs": [],
   "source": [
    "ss = {}\n",
    "loc = [dI for dI in os.listdir('../RP/sessions/') if os.path.isdir(os.path.join('../RP/sessions/',dI))]\n",
    "print (len(loc))\n",
    "for session in range(len(loc)):\n",
    "    sp = os.path.join('../RP/sessions/',loc[session])\n",
    "    ss[session] = {'s': ra.Session(sp, 'radical.pilot')}\n",
    "    ss[session].update({'p': ss[session]['s'].filter(etype='pilot'   , inplace=False),\n",
    "                        'u': ss[session]['s'].filter(etype='unit'    , inplace=False)})\n",
    "    \n",
    "tableau20 = [(31 , 119, 180), (174, 199, 232), # blue        [ 0,1 ]\n",
    "             (255, 127, 14 ), (255, 187, 120), # orange      [ 2,3 ]\n",
    "             (44 , 160, 44 ), (152, 223, 138), # green       [ 4,5 ]\n",
    "             (214, 39 , 40 ), (255, 152, 150), # red         [ 6,7 ]\n",
    "             (148, 103, 189), (197, 176, 213), # purple      [ 8,9 ]\n",
    "             (140, 86 , 75 ), (196, 156, 148), # brown       [10,11]\n",
    "             (227, 119, 194), (247, 182, 210), # pink        [12,13]\n",
    "             (188, 189, 34 ), (219, 219, 141), # yellow      [14,15]\n",
    "             (23 , 190, 207), (158, 218, 229), # cyan        [16,17]\n",
    "             (65 , 68 , 81 ), (96 , 99 , 106), # gray        [18,19]\n",
    "             (127, 127, 127), (143, 135, 130), # gray        [20,21]\n",
    "             (165, 172, 175), (199, 199, 199), # gray        [22,23]\n",
    "             (207, 207, 207)]                   # gray        [24]\n",
    "\n",
    "# Scale the RGB values to the [0, 1] range, which is the format\n",
    "# matplotlib accepts.\n",
    "for i in range(len(tableau20)):\n",
    "    r, g, b = tableau20[i]\n",
    "    tableau20[i] = (round(r/255.,1), round(g/255.,1), round(b/255.,1))"
   ]
  },
  {
   "cell_type": "code",
   "execution_count": null,
   "metadata": {},
   "outputs": [],
   "source": [
    "from radical.pilot import states as rps\n",
    "\n",
    "for sid in range(len(loc)):\n",
    "    u  = ss[sid]['u']\n",
    "\n",
    "    ss[sid].update({\n",
    "        'umgr_sched_queue'  : u.duration( event=[{ru.STATE: rps.NEW                        },\n",
    "                                                 {ru.STATE: rps.UMGR_SCHEDULING            } ]), \n",
    "        'umgr_stage_input'  : u.duration( event=[{ru.STATE: rps.UMGR_STAGING_INPUT_PENDING },\n",
    "                                                 {ru.STATE: rps.UMGR_STAGING_INPUT         } ]), \n",
    "        'agent_stage_input' : u.duration( event=[{ru.STATE: rps.AGENT_STAGING_INPUT_PENDING},\n",
    "                                                 {ru.STATE: rps.AGENT_SCHEDULING_PENDING   } ]), \n",
    "        'agent_sched_queue' : u.duration( event=[{ru.STATE: rps.AGENT_SCHEDULING_PENDING   },\n",
    "                                                 {ru.EVENT: 'schedule_ok'                  } ]), \n",
    "        'agent_exec_queue'  : u.duration( event=[{ru.EVENT: 'schedule_ok'                  },\n",
    "                                                 {ru.STATE: rps.AGENT_EXECUTING            } ]),\n",
    "        'agent_exec_prep'   : u.duration( event=[{ru.STATE: rps.AGENT_EXECUTING            },\n",
    "                                                 {ru.EVENT: 'exec_start'                   } ]),\n",
    "        'agent_exec_rp'     : u.duration( event=[{ru.EVENT: 'exec_start'                   },\n",
    "                                                 {ru.EVENT: 'cu_start'                     } ]),\n",
    "        'agent_exec_sh'     : u.duration( event=[{ru.EVENT: 'cu_start'                     },\n",
    "                                                 {ru.EVENT: 'cu_exec_start'                } ]),\n",
    "        'agent_exec_cmd'    : u.duration( event=[{ru.EVENT: 'cu_exec_start'                },\n",
    "                                                 {ru.EVENT: 'cu_exec_stop'                 } ]),\n",
    "        'agent_term_sh'     : u.duration( event=[{ru.EVENT: 'cu_exec_stop'                 },\n",
    "                                                 {ru.EVENT: 'cu_stop'                      } ]),\n",
    "        'agent_term_rp'     : u.duration( event=[{ru.EVENT: 'cu_stop'                      },\n",
    "                                                 {ru.EVENT: 'exec_stop'                    } ]),\n",
    "        'agent_unschedule'  : u.duration( event=[{ru.EVENT: 'exec_stop'                    },\n",
    "                                                 {ru.EVENT: 'unschedule_stop'              } ]),\n",
    "        'agent_stage_output': u.duration( event=[{ru.EVENT: 'unschedule_stop'              },\n",
    "                                                 {ru.STATE: rps.UMGR_STAGING_OUTPUT        } ])\n",
    "    })"
   ]
  },
  {
   "cell_type": "code",
   "execution_count": null,
   "metadata": {},
   "outputs": [],
   "source": [
    "ss"
   ]
  },
  {
   "cell_type": "code",
   "execution_count": null,
   "metadata": {},
   "outputs": [],
   "source": [
    "for sid in range(len(loc)):\n",
    "    print(\"\"\"\n",
    "%s:\n",
    "\\tumgr_sched_queue  : %s\n",
    "\\tumgr_stage_input  : %s\n",
    "\\tagent_stage_input : %s\n",
    "\\tagent_sched_queue : %s\n",
    "\\tagent_exec_queue  : %s\n",
    "\\tagent_exec_prep   : %s\n",
    "\\tagent_exec_rp     : %s\n",
    "\\tagent_exec_sh     : %s\n",
    "\\tagent_exec_cmd    : %s\n",
    "\\tagent_term_sh     : %s\n",
    "\\tagent_term_rp     : %s\n",
    "\\tagent_unschedule  : %s\n",
    "\\tagent_stage_output: %s\n",
    "\"\"\" % (sid                         , \n",
    "       ss[sid]['umgr_sched_queue'] ,\n",
    "       ss[sid]['umgr_stage_input'] ,\n",
    "       ss[sid]['agent_stage_input'],\n",
    "       ss[sid]['agent_sched_queue'],\n",
    "       ss[sid]['agent_exec_queue'] , \n",
    "       ss[sid]['agent_exec_prep']  , \n",
    "       ss[sid]['agent_exec_rp']    , \n",
    "       ss[sid]['agent_exec_sh']    , \n",
    "       ss[sid]['agent_exec_cmd']   , \n",
    "       ss[sid]['agent_term_sh']    , \n",
    "       ss[sid]['agent_term_rp']    , \n",
    "       ss[sid]['agent_unschedule'] ,\n",
    "       ss[sid]['agent_stage_output']))"
   ]
  },
  {
   "cell_type": "code",
   "execution_count": null,
   "metadata": {},
   "outputs": [],
   "source": [
    "for sid in range(len(loc)):\n",
    "    u  = ss[sid]['u']\n",
    "    p  = ss[sid]['p']\n",
    "\n",
    "    ss[sid].update({\n",
    "      'ttc'  : p.duration(event=[ {ru.EVENT: 'state'         , ru.STATE: rp.NEW                }, \n",
    "                                   {ru.EVENT: 'state'        , ru.STATE: rp.CANCELED           } ]),\n",
    "      'ttq_p': p.duration(event=[ {ru.EVENT: 'state'         , ru.STATE: rp.PMGR_ACTIVE_PENDING}, \n",
    "                                   {ru.EVENT: 'state'        , ru.STATE: rp.PMGR_ACTIVE        } ]),\n",
    "      'ttx_u': u.duration( event=[ {ru.EVENT: 'cu_exec_start', ru.STATE: None                  },      \n",
    "                                   {ru.EVENT: 'cu_exec_stop' , ru.STATE: None                  } ]),\n",
    "      'ttx_p': p.duration(event=[ {ru.EVENT: 'state'         , ru.STATE: rp.PMGR_ACTIVE        },\n",
    "                                  [{ru.EVENT: 'state'        , ru.STATE: rp.DONE               },\n",
    "                                   {ru.EVENT: 'state'        , ru.STATE: rp.FAILED             },\n",
    "                                   {ru.EVENT: 'state'        , ru.STATE: rp.CANCELED           }]])})\n",
    "    \n",
    "    ss[sid].update({'ovh_rtc':(ss[sid]['ttx_p'])-ss[sid]['ttx_u']})"
   ]
  },
  {
   "cell_type": "code",
   "execution_count": null,
   "metadata": {},
   "outputs": [],
   "source": [
    "fwidth = 18\n",
    "fhight = 4\n",
    "fig, axarr = plt.subplots(1, len(loc), sharey=True, figsize=(fwidth, fhight))\n",
    "\n",
    "i = 0\n",
    "j = 'a'\n",
    "for sid in range(len(loc)):\n",
    "    \n",
    "    ax = axarr[i]\n",
    "\n",
    "    ax.bar(x = 'OVH', height = ss[sid]['ovh_rtc'], color = tableau20[1])\n",
    "    ax.bar(x = 'TTX', height = ss[sid]['ttx_u']  , color = tableau20[3])\n",
    "    ax.grid()\n",
    "    ax.set_xlabel('(%s)' % j, labelpad=45)\n",
    "    \n",
    "    i = i+1\n",
    "    j = chr(ord(j) + 1)\n",
    "\n",
    "\n",
    "fig.legend(['RADICAL Cybertools overhead (OVH)', 'Total time to execution (TTX)'], loc='upper center', \n",
    "           bbox_to_anchor=(0.4, 1.4), fontsize=20, ncol=2)"
   ]
  },
  {
   "cell_type": "code",
   "execution_count": null,
   "metadata": {
    "scrolled": false
   },
   "outputs": [],
   "source": [
    "plt.rc('text', usetex=False)\n",
    "\n",
    "fwidth = 27\n",
    "fhight = 4\n",
    "fig, axarr = plt.subplots(1,  len(loc), sharey=True, figsize=(fwidth, fhight))\n",
    "\n",
    "i = 0\n",
    "j = 'a'\n",
    "\n",
    "\n",
    "for sid in range(len(loc)):\n",
    "    \n",
    "    ax = axarr[i]\n",
    "    ax.title.set_text('%s/%s/%s Tasks/Cores/Nodes' % (24,24, int(1)))\n",
    "\n",
    "    ax.bar(x = 'umgr_sched_queue', height = ss[sid]['umgr_sched_queue'], color = tableau20[1])\n",
    "    ax.bar(x = 'umgr_stage_input', height = ss[sid]['umgr_stage_input'], color = tableau20[3])\n",
    "    ax.bar(x = 'agent_stage_input', height = ss[sid]['agent_stage_input'], color = tableau20[5])\n",
    "    ax.bar(x = 'agent_sched_queue', height = ss[sid]['agent_sched_queue'], color = tableau20[7])\n",
    "    ax.bar(x = 'agent_exec_queue', height = ss[sid]['agent_exec_queue'], color = tableau20[9])\n",
    "    ax.bar(x = 'agent_exec_prep', height = ss[sid]['agent_exec_prep'], color = tableau20[11])\n",
    "    ax.bar(x = 'agent_exec_rp', height = ss[sid]['agent_exec_rp'], color = tableau20[13])\n",
    "    ax.bar(x = 'agent_exec_sh', height = ss[sid]['agent_exec_sh'], color = tableau20[15])\n",
    "    ax.bar(x = 'agent_exec_cmd', height = ss[sid]['agent_exec_cmd'], color = tableau20[17])\n",
    "    ax.bar(x = 'agent_term_sh', height = ss[sid]['agent_term_sh'], color = tableau20[19])\n",
    "    ax.bar(x = 'agent_term_rp', height = ss[sid]['agent_term_rp'], color = tableau20[21])\n",
    "    ax.bar(x = 'agent_unschedule', height = ss[sid]['agent_unschedule'], color = tableau20[2])\n",
    "    ax.bar(x = 'agent_stage_output', height = ss[sid]['agent_stage_output'], color = tableau20[4])\n",
    "    ax.grid()\n",
    "    ax.set_xlabel('(%s)' % j, labelpad=45)\n",
    "    ax.tick_params(axis='x', labelrotation=90)\n",
    "    \n",
    "    i = i+1\n",
    "    j = chr(ord(j) + 1)\n",
    "\n",
    "fig.text(0.08,  0.5 , 'Time (s)', va='center', rotation='vertical', fontsize=24)\n",
    "fig.text(0.5 , -0.8 , 'Metric'  , ha='center', fontsize=24)"
   ]
  },
  {
   "cell_type": "code",
   "execution_count": null,
   "metadata": {},
   "outputs": [],
   "source": []
  }
 ],
 "metadata": {
  "kernelspec": {
   "display_name": "Python 3",
   "language": "python",
   "name": "python3"
  },
  "language_info": {
   "codemirror_mode": {
    "name": "ipython",
    "version": 3
   },
   "file_extension": ".py",
   "mimetype": "text/x-python",
   "name": "python",
   "nbconvert_exporter": "python",
   "pygments_lexer": "ipython3",
   "version": "3.6.4"
  }
 },
 "nbformat": 4,
 "nbformat_minor": 2
}
