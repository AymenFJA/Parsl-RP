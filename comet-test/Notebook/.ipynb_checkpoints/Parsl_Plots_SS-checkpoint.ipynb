{
 "cells": [
  {
   "cell_type": "code",
   "execution_count": 1,
   "metadata": {},
   "outputs": [
    {
     "data": {
      "text/html": [
       "<style>.container { width:100% !important; }</style>"
      ],
      "text/plain": [
       "<IPython.core.display.HTML object>"
      ]
     },
     "metadata": {},
     "output_type": "display_data"
    },
    {
     "data": {
      "text/html": [
       "<style>.container { width:100% !important; }</style>"
      ],
      "text/plain": [
       "<IPython.core.display.HTML object>"
      ]
     },
     "metadata": {},
     "output_type": "display_data"
    }
   ],
   "source": [
    "import sqlite3\n",
    "import pandas as pd\n",
    "import parsl_analytics as pa\n",
    "%matplotlib inline\n",
    "%run '../bin/notebook_utils.py'\n",
    "#%run 'bin/plot_utilization.py'\n",
    "import matplotlib.pyplot as plt\n",
    "from IPython.core.display import display, HTML\n",
    "display(HTML(\"<style>.container { width:100% !important; }</style>\")) # Expand the notebook to the width of the browser\n",
    "plt.style.use('ggplot')"
   ]
  },
  {
   "cell_type": "code",
   "execution_count": 9,
   "metadata": {},
   "outputs": [],
   "source": [
    "muds =  ['parsl.ss.1N.0001',\n",
    "         'parsl.ss.1N.0003',\n",
    "         'parsl.ss.1N.0002',\n",
    "         'parsl.ss.2N.0001',\n",
    "         'parsl.ss.2N.0003',\n",
    "         'parsl.ss.2N.0002',\n",
    "         'parsl.ss.18N.0001',\n",
    "         'parsl.ss.18N.0002',\n",
    "         'parsl.ss.18N.0003',\n",
    "         'parsl.ss.36N.0002',\n",
    "         'parsl.ss.36N.0003',\n",
    "         'parsl.ss.36N.0004']\n",
    "\n",
    "mdir = '/home/aymen/RADICAL/Parsl-RP/comet-test/Parsl/parsl_sessions/SS/'\n",
    "mids = [mdir+m for m in muds]\n",
    "ss = {}\n",
    "t= 0\n",
    "for mid in muds:\n",
    "    mp = mdir+mid+'/monitoring.db'\n",
    "    conn = sqlite3.connect(mp)\n",
    "    df_ttq = pa.get_queue_tstamps(mdir+mid+'/000/parsl.log')\n",
    "    df_ttt = pd.read_sql_query(\"SELECT task_elapsed_time FROM 'task'\", conn) #TTX + TTQ\n",
    "    df_ttx = abs(df_ttt['task_elapsed_time'].max()-df_ttq)\n",
    "    df_ttc = pd.read_sql_query('SELECT workflow_duration from workflow', conn)\n",
    "    \n",
    "    ss[mid] = {'session': muds[t]}\n",
    "    ss[mid].update({'TTC': df_ttc['workflow_duration'][0]})\n",
    "    ss[mid].update({'TTQ': df_ttq})\n",
    "    ss[mid].update({'TTX': df_ttx})\n",
    "    ss[mid].update({'OVH': df_ttc['workflow_duration'][0]-df_ttq-df_ttx})\n",
    "    t=t+1"
   ]
  },
  {
   "cell_type": "code",
   "execution_count": 10,
   "metadata": {},
   "outputs": [
    {
     "data": {
      "text/html": [
       "<div>\n",
       "<style scoped>\n",
       "    .dataframe tbody tr th:only-of-type {\n",
       "        vertical-align: middle;\n",
       "    }\n",
       "\n",
       "    .dataframe tbody tr th {\n",
       "        vertical-align: top;\n",
       "    }\n",
       "\n",
       "    .dataframe thead th {\n",
       "        text-align: right;\n",
       "    }\n",
       "</style>\n",
       "<table border=\"1\" class=\"dataframe\">\n",
       "  <thead>\n",
       "    <tr style=\"text-align: right;\">\n",
       "      <th></th>\n",
       "      <th>session</th>\n",
       "      <th>Parsl TTQ</th>\n",
       "      <th>Parsl TTC</th>\n",
       "      <th>Parsl TTX</th>\n",
       "      <th>Parsl OVH</th>\n",
       "    </tr>\n",
       "  </thead>\n",
       "  <tbody>\n",
       "    <tr>\n",
       "      <th>0</th>\n",
       "      <td>parsl.ss.1N.0001</td>\n",
       "      <td>2625.319</td>\n",
       "      <td>22160.832716</td>\n",
       "      <td>19510.389509</td>\n",
       "      <td>25.124207</td>\n",
       "    </tr>\n",
       "    <tr>\n",
       "      <th>1</th>\n",
       "      <td>parsl.ss.1N.0003</td>\n",
       "      <td>169.990</td>\n",
       "      <td>22160.832716</td>\n",
       "      <td>21965.718509</td>\n",
       "      <td>25.124207</td>\n",
       "    </tr>\n",
       "    <tr>\n",
       "      <th>2</th>\n",
       "      <td>parsl.ss.1N.0002</td>\n",
       "      <td>3649.376</td>\n",
       "      <td>22160.832716</td>\n",
       "      <td>18486.332509</td>\n",
       "      <td>25.124207</td>\n",
       "    </tr>\n",
       "    <tr>\n",
       "      <th>3</th>\n",
       "      <td>parsl.ss.2N.0001</td>\n",
       "      <td>384.998</td>\n",
       "      <td>11260.962774</td>\n",
       "      <td>10815.674616</td>\n",
       "      <td>60.290158</td>\n",
       "    </tr>\n",
       "    <tr>\n",
       "      <th>4</th>\n",
       "      <td>parsl.ss.2N.0003</td>\n",
       "      <td>10.121</td>\n",
       "      <td>11033.232161</td>\n",
       "      <td>10993.878200</td>\n",
       "      <td>29.232961</td>\n",
       "    </tr>\n",
       "    <tr>\n",
       "      <th>5</th>\n",
       "      <td>parsl.ss.2N.0002</td>\n",
       "      <td>209.730</td>\n",
       "      <td>11260.962774</td>\n",
       "      <td>10990.942616</td>\n",
       "      <td>60.290158</td>\n",
       "    </tr>\n",
       "    <tr>\n",
       "      <th>6</th>\n",
       "      <td>parsl.ss.18N.0001</td>\n",
       "      <td>114.967</td>\n",
       "      <td>1409.102210</td>\n",
       "      <td>1275.945721</td>\n",
       "      <td>18.189489</td>\n",
       "    </tr>\n",
       "    <tr>\n",
       "      <th>7</th>\n",
       "      <td>parsl.ss.18N.0002</td>\n",
       "      <td>114.967</td>\n",
       "      <td>1409.102210</td>\n",
       "      <td>1275.945721</td>\n",
       "      <td>18.189489</td>\n",
       "    </tr>\n",
       "    <tr>\n",
       "      <th>8</th>\n",
       "      <td>parsl.ss.18N.0003</td>\n",
       "      <td>119.976</td>\n",
       "      <td>1424.300486</td>\n",
       "      <td>1288.607382</td>\n",
       "      <td>15.717104</td>\n",
       "    </tr>\n",
       "    <tr>\n",
       "      <th>9</th>\n",
       "      <td>parsl.ss.36N.0002</td>\n",
       "      <td>95.010</td>\n",
       "      <td>905.505365</td>\n",
       "      <td>747.406742</td>\n",
       "      <td>63.088623</td>\n",
       "    </tr>\n",
       "    <tr>\n",
       "      <th>10</th>\n",
       "      <td>parsl.ss.36N.0003</td>\n",
       "      <td>221.686</td>\n",
       "      <td>958.424782</td>\n",
       "      <td>689.924855</td>\n",
       "      <td>46.813927</td>\n",
       "    </tr>\n",
       "    <tr>\n",
       "      <th>11</th>\n",
       "      <td>parsl.ss.36N.0004</td>\n",
       "      <td>44.982</td>\n",
       "      <td>768.859893</td>\n",
       "      <td>698.775612</td>\n",
       "      <td>25.102281</td>\n",
       "    </tr>\n",
       "  </tbody>\n",
       "</table>\n",
       "</div>"
      ],
      "text/plain": [
       "              session  Parsl TTQ     Parsl TTC     Parsl TTX  Parsl OVH\n",
       "0    parsl.ss.1N.0001   2625.319  22160.832716  19510.389509  25.124207\n",
       "1    parsl.ss.1N.0003    169.990  22160.832716  21965.718509  25.124207\n",
       "2    parsl.ss.1N.0002   3649.376  22160.832716  18486.332509  25.124207\n",
       "3    parsl.ss.2N.0001    384.998  11260.962774  10815.674616  60.290158\n",
       "4    parsl.ss.2N.0003     10.121  11033.232161  10993.878200  29.232961\n",
       "5    parsl.ss.2N.0002    209.730  11260.962774  10990.942616  60.290158\n",
       "6   parsl.ss.18N.0001    114.967   1409.102210   1275.945721  18.189489\n",
       "7   parsl.ss.18N.0002    114.967   1409.102210   1275.945721  18.189489\n",
       "8   parsl.ss.18N.0003    119.976   1424.300486   1288.607382  15.717104\n",
       "9   parsl.ss.36N.0002     95.010    905.505365    747.406742  63.088623\n",
       "10  parsl.ss.36N.0003    221.686    958.424782    689.924855  46.813927\n",
       "11  parsl.ss.36N.0004     44.982    768.859893    698.775612  25.102281"
      ]
     },
     "execution_count": 10,
     "metadata": {},
     "output_type": "execute_result"
    }
   ],
   "source": [
    "info = []\n",
    "\n",
    "for mid in muds:\n",
    "    info.append({'session':mid,\n",
    "                 'Parsl TTQ':ss[mid]['TTQ'],\n",
    "                 'Parsl TTC':ss[mid]['TTC'],\n",
    "                 'Parsl TTX':ss[mid]['TTX'],\n",
    "                 'Parsl OVH':ss[mid]['OVH']})\n",
    "df_info = pd.DataFrame(info) \n",
    "df_info"
   ]
  },
  {
   "cell_type": "code",
   "execution_count": 12,
   "metadata": {},
   "outputs": [
    {
     "data": {
      "image/png": "[encoded data removed]",
      "text/plain": [
       "<Figure size 1728x792 with 4 Axes>"
      ]
     },
     "metadata": {},
     "output_type": "display_data"
    }
   ],
   "source": [
    "fwidth = 24\n",
    "fhight = 11\n",
    "fig, ax = plt.subplots(1, 4,sharey=True, figsize=(fwidth, fhight))\n",
    "\n",
    "ax[0].set_title('1728|24|1 T|C|N',fontsize=20)\n",
    "ax[0].bar(x = 'OVH', height = df_info['Parsl OVH'][0:3].mean(),yerr =df_info['Parsl OVH'][0:3].std() ,color = tableau20[4],log=True)\n",
    "ax[0].bar(x = 'TTX', height = df_info['Parsl TTX'][0:3].mean(), yerr =df_info['Parsl TTX'][0:3].std(),color = tableau20[14],log=True)\n",
    "\n",
    "ax[1].set_title('1728|48|2 T|C|N',fontsize=20)\n",
    "ax[1].bar(x = 'OVH', height = df_info['Parsl OVH'][3:6].mean(),yerr =df_info['Parsl OVH'][3:6].std() ,color = tableau20[4],log=True)\n",
    "ax[1].bar(x = 'TTX', height = df_info['Parsl TTX'][3:6].mean(), yerr =df_info['Parsl TTX'][3:6].std(),color = tableau20[14],log=True)\n",
    "\n",
    "ax[2].set_title('1728|432|18 T|C|N',fontsize=20)\n",
    "ax[2].bar(x = 'OVH', height = df_info['Parsl OVH'][6:9].mean(),yerr =df_info['Parsl OVH'][6:9].std() ,color = tableau20[4],log=True)\n",
    "ax[2].bar(x = 'TTX', height = df_info['Parsl TTX'][6:9].mean(), yerr =df_info['Parsl TTX'][6:9].std(),color = tableau20[14],log=True)\n",
    "\n",
    "ax[3].set_title('1728|864|36 T|C|N',fontsize=20)\n",
    "ax[3].bar(x = 'OVH', height = df_info['Parsl OVH'][9:12].mean(),yerr =df_info['Parsl OVH'][9:12].std() ,color = tableau20[4],log=True)\n",
    "ax[3].bar(x = 'TTX', height = df_info['Parsl TTX'][9:12].mean(), yerr =df_info['Parsl TTX'][9:12].std(),color = tableau20[14],log=True)\n",
    "\n",
    "plt.savefig('../Parsl/figures/parsl_ss_ttx_ovh.pdf', dpi=300, bbox_inches='tight')"
   ]
  },
  {
   "cell_type": "code",
   "execution_count": null,
   "metadata": {},
   "outputs": [],
   "source": []
  }
 ],
 "metadata": {
  "kernelspec": {
   "display_name": "Python 3",
   "language": "python",
   "name": "python3"
  },
  "language_info": {
   "codemirror_mode": {
    "name": "ipython",
    "version": 3
   },
   "file_extension": ".py",
   "mimetype": "text/x-python",
   "name": "python",
   "nbconvert_exporter": "python",
   "pygments_lexer": "ipython3",
   "version": "3.6.10"
  }
 },
 "nbformat": 4,
 "nbformat_minor": 4
}
